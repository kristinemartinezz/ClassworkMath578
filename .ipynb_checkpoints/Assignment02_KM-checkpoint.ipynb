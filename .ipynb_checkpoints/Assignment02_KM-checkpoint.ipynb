{
 "cells": [
  {
   "cell_type": "markdown",
   "id": "e74034e2-76c7-4ad3-bfff-bf3def298403",
   "metadata": {},
   "source": [
    "# Assignment 02\n"
   ]
  },
  {
   "cell_type": "markdown",
   "id": "aad57d23-4d52-4de0-a6cb-99b7fed84a91",
   "metadata": {},
   "source": [
    "<p style='text-align: right; '> Kristine Martinez </p>\n",
    "<p style='text-align: right; '> 9/5/2022 </p>"
   ]
  },
  {
   "cell_type": "markdown",
   "id": "c2461910",
   "metadata": {},
   "source": [
    "### Question 1\n",
    "1. Reverse a vector. Given a vector, reverse it such that the last element becomes the first, e.g. [1, 2, 3] => [3, 2, 1] \n",
    "\n",
    "Example for #1: Given a vector [2,4,6] and reverse it to reflect vector as [6,4,2]."
   ]
  },
  {
   "cell_type": "code",
   "execution_count": 125,
   "id": "6cf3ad3f",
   "metadata": {},
   "outputs": [
    {
     "data": {
      "text/plain": [
       "[6, 4, 2]"
      ]
     },
     "execution_count": 125,
     "metadata": {},
     "output_type": "execute_result"
    }
   ],
   "source": [
    "v = [2,4,6]\n",
    "reverse_v = v[::-1]\n",
    "reverse_v"
   ]
  },
  {
   "cell_type": "markdown",
   "id": "9b84eef3",
   "metadata": {},
   "source": [
    "### Question 2 \n",
    "2. Create a 2D array with zeros on the borders and 1 inside."
   ]
  },
  {
   "cell_type": "code",
   "execution_count": 126,
   "id": "a62ef067",
   "metadata": {},
   "outputs": [
    {
     "name": "stdout",
     "output_type": "stream",
     "text": [
      "[[0. 0. 0. 0. 0. 0. 0. 0.]\n",
      " [0. 0. 0. 0. 0. 0. 0. 0.]\n",
      " [0. 0. 0. 0. 0. 0. 0. 0.]\n",
      " [0. 0. 0. 0. 0. 0. 0. 0.]\n",
      " [0. 0. 0. 0. 0. 0. 0. 0.]\n",
      " [0. 0. 0. 0. 0. 0. 0. 0.]\n",
      " [0. 0. 0. 0. 0. 0. 0. 0.]\n",
      " [0. 0. 0. 0. 0. 0. 0. 0.]]\n"
     ]
    }
   ],
   "source": [
    "import numpy as np\n",
    "a2 = np.zeros((8,8))\n",
    "print(a2)"
   ]
  },
  {
   "cell_type": "code",
   "execution_count": 127,
   "id": "192b533e",
   "metadata": {},
   "outputs": [
    {
     "name": "stdout",
     "output_type": "stream",
     "text": [
      "[[0. 0. 0. 0. 0. 0. 0. 0.]\n",
      " [0. 1. 1. 1. 1. 1. 1. 0.]\n",
      " [0. 1. 1. 1. 1. 1. 1. 0.]\n",
      " [0. 1. 1. 1. 1. 1. 1. 0.]\n",
      " [0. 1. 1. 1. 1. 1. 1. 0.]\n",
      " [0. 1. 1. 1. 1. 1. 1. 0.]\n",
      " [0. 1. 1. 1. 1. 1. 1. 0.]\n",
      " [0. 0. 0. 0. 0. 0. 0. 0.]]\n"
     ]
    }
   ],
   "source": [
    "a2[1:-1, 1:-1]=1 #first we get a sweep from row 1 to row 7(noninclusive) \n",
    "                #then we get a sweep from col. 1 top col.7(noninclusive)\n",
    "print(a2)"
   ]
  },
  {
   "cell_type": "markdown",
   "id": "3ad4098e",
   "metadata": {},
   "source": [
    "### Question 4\n",
    "4. Create a 1D array with 10 random elements. Sort it."
   ]
  },
  {
   "cell_type": "code",
   "execution_count": 111,
   "id": "a26032cc",
   "metadata": {},
   "outputs": [
    {
     "data": {
      "text/plain": [
       "array([17, 41, 41, 12, 34, 51, 37, 10,  5, 53])"
      ]
     },
     "execution_count": 111,
     "metadata": {},
     "output_type": "execute_result"
    }
   ],
   "source": [
    "# numpy random.randint() functions gives us an array of random integers\n",
    "# we specify the range of integers to select from in the first 2 parameters & \n",
    "# the number of integers we want in the array in last parameter\n",
    "\n",
    "a1 = np.random.randint(1,60,10) \n",
    "a1"
   ]
  },
  {
   "cell_type": "markdown",
   "id": "73ec3530",
   "metadata": {},
   "source": [
    "Now lets sort the array in ascending order."
   ]
  },
  {
   "cell_type": "code",
   "execution_count": 112,
   "id": "0495bd71",
   "metadata": {},
   "outputs": [
    {
     "data": {
      "text/plain": [
       "array([ 5, 10, 12, 17, 34, 37, 41, 41, 51, 53])"
      ]
     },
     "execution_count": 112,
     "metadata": {},
     "output_type": "execute_result"
    }
   ],
   "source": [
    "np.sort(a1)"
   ]
  },
  {
   "cell_type": "markdown",
   "id": "32f0d761",
   "metadata": {},
   "source": [
    "### Question 5\n",
    "5. For the random array in question 4, instead of sorting it, perform an indirect sort. That is, return the list of indices which would index the array in sorted order."
   ]
  },
  {
   "cell_type": "markdown",
   "id": "4ec889ea",
   "metadata": {},
   "source": [
    "Lets re-create the 1D array made in number 4."
   ]
  },
  {
   "cell_type": "code",
   "execution_count": 116,
   "id": "f9f9d798",
   "metadata": {},
   "outputs": [
    {
     "data": {
      "text/plain": [
       "array([ 4, 48, 50, 56, 14, 49, 33, 11, 11, 53])"
      ]
     },
     "execution_count": 116,
     "metadata": {},
     "output_type": "execute_result"
    }
   ],
   "source": [
    "a1 = np.random.randint(1,60,10)\n",
    "a1"
   ]
  },
  {
   "cell_type": "markdown",
   "id": "e05a4e60",
   "metadata": {},
   "source": [
    "Now lets sort the array so it'll return sorted array with its indices."
   ]
  },
  {
   "cell_type": "code",
   "execution_count": 117,
   "id": "57e4605b",
   "metadata": {},
   "outputs": [
    {
     "data": {
      "text/plain": [
       "array([0, 7, 8, 4, 6, 1, 5, 2, 9, 3], dtype=int64)"
      ]
     },
     "execution_count": 117,
     "metadata": {},
     "output_type": "execute_result"
    }
   ],
   "source": [
    "np.argsort(a1)"
   ]
  },
  {
   "cell_type": "markdown",
   "id": "1894f3c3",
   "metadata": {},
   "source": [
    "### Question 6\n",
    "6. Create a 4x4 array of zeros, and another 4x4 array of ones. Next combine them into a single 8x4 array with the content of the zeros array on top and the ones on the bottom. Finally, do the same, but create a 4x8 array with the zeros on the left and the ones on the right."
   ]
  },
  {
   "cell_type": "code",
   "execution_count": 124,
   "id": "51973702",
   "metadata": {},
   "outputs": [
    {
     "data": {
      "text/plain": [
       "array([[0., 0., 0., 0.],\n",
       "       [0., 0., 0., 0.],\n",
       "       [0., 0., 0., 0.],\n",
       "       [0., 0., 0., 0.],\n",
       "       [1., 1., 1., 1.],\n",
       "       [1., 1., 1., 1.],\n",
       "       [1., 1., 1., 1.],\n",
       "       [1., 1., 1., 1.]])"
      ]
     },
     "execution_count": 124,
     "metadata": {},
     "output_type": "execute_result"
    }
   ],
   "source": [
    "x = np.zeros((4,4))\n",
    "y = np.ones((4,4))\n",
    "np.concatenate((x,y)) #concatenate will join sequence of arrays along an existing axis. Current/Default axis is 0."
   ]
  },
  {
   "cell_type": "markdown",
   "id": "180d5620",
   "metadata": {},
   "source": [
    "Now we'll create a 4x8 array with zeros on the left and ones on the right."
   ]
  },
  {
   "cell_type": "code",
   "execution_count": 122,
   "id": "95bd43d7",
   "metadata": {},
   "outputs": [
    {
     "data": {
      "text/plain": [
       "array([[0., 0., 0., 0., 1., 1., 1., 1.],\n",
       "       [0., 0., 0., 0., 1., 1., 1., 1.],\n",
       "       [0., 0., 0., 0., 1., 1., 1., 1.],\n",
       "       [0., 0., 0., 0., 1., 1., 1., 1.]])"
      ]
     },
     "execution_count": 122,
     "metadata": {},
     "output_type": "execute_result"
    }
   ],
   "source": [
    "np.concatenate((x,y), axis=1)"
   ]
  }
 ],
 "metadata": {
  "kernelspec": {
   "display_name": "Python 3 (ipykernel)",
   "language": "python",
   "name": "python3"
  },
  "language_info": {
   "codemirror_mode": {
    "name": "ipython",
    "version": 3
   },
   "file_extension": ".py",
   "mimetype": "text/x-python",
   "name": "python",
   "nbconvert_exporter": "python",
   "pygments_lexer": "ipython3",
   "version": "3.9.12"
  }
 },
 "nbformat": 4,
 "nbformat_minor": 5
}
