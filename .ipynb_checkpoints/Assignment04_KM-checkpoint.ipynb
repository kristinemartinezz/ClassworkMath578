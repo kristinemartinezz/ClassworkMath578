{
 "cells": [
  {
   "cell_type": "markdown",
   "id": "158a7f2c-b891-42ff-a82a-f40df3c4e832",
   "metadata": {},
   "source": [
    "# Assignment 04\n",
    "\n",
    "Due Oct 4, 11:59pm. Please submit one .ipynb file to Beachboard. "
   ]
  },
  {
   "cell_type": "markdown",
   "id": "33e01297-77eb-4c4c-99d5-080c1684ea57",
   "metadata": {},
   "source": [
    "<p style='text-align: right; '> Put your name here </p>\n",
    "<p style='text-align: right; '> Put the date here </p>"
   ]
  },
  {
   "cell_type": "markdown",
   "id": "e43ab08c-f3d6-447d-ae0b-dee0f9745f1a",
   "metadata": {},
   "source": [
    "In the class, we have covered the topic of using Robust PCA to denoise the Yale Face images, with salt and pepper noise. In particular, we have defined a function to add random salt and pepper noise. In this assignment, you are asked to defined your own function to add patch noise to the images and then try to recover the original images. That is, you will create a mask with the same shape as your data tensor which will have value one for pathces of size (20, 20) position randomly in each sample. \n",
    "\n",
    "Please refer to [Robust Tensor PCA for Yale Faces](http://jeankossaifi.com/blog/rpca.html) website, for imformation related to this assignment. You may also review my [lecture video 10](https://csulb-my.sharepoint.com/:v:/g/personal/paul_sun_csulb_edu/EfnG5I020EdEh1mCp-hx6ToBaFLO4HYgpSkf5qeQwdki4A?e=EPCWtV) as well as [jupytor notebook from lecture 10](https://nbviewer.org/github/huiprobable/MATH578F22CSULB/blob/main/Lectures/yaleB_RPCA.ipynb)"
   ]
  },
  {
   "cell_type": "code",
   "execution_count": null,
   "id": "32339673-6807-4d33-b0d7-078f3539eaa4",
   "metadata": {},
   "outputs": [],
   "source": []
  }
 ],
 "metadata": {
  "kernelspec": {
   "display_name": "Python 3 (ipykernel)",
   "language": "python",
   "name": "python3"
  },
  "language_info": {
   "codemirror_mode": {
    "name": "ipython",
    "version": 3
   },
   "file_extension": ".py",
   "mimetype": "text/x-python",
   "name": "python",
   "nbconvert_exporter": "python",
   "pygments_lexer": "ipython3",
   "version": "3.9.12"
  }
 },
 "nbformat": 4,
 "nbformat_minor": 5
}
