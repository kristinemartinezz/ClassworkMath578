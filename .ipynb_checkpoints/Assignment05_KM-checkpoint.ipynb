{
 "cells": [
  {
   "cell_type": "markdown",
   "id": "c238b1d1-a0f0-4ea2-9c76-2a875780b8f9",
   "metadata": {},
   "source": [
    "# Assignment 05\n",
    "\n",
    "Due Oct 20, 11:59pm. Please submit one .ipynb file to Beachboard. "
   ]
  },
  {
   "cell_type": "markdown",
   "id": "f622fa43-1614-4067-8124-c77cbae7ab33",
   "metadata": {},
   "source": [
    "<p style='text-align: right; '> Kristine Martinez </p>\n",
    "<p style='text-align: right; '> 10/21/2022 </p>"
   ]
  },
  {
   "cell_type": "markdown",
   "id": "bc639fae-f2bf-4afa-ae2b-cb9a79e28592",
   "metadata": {},
   "source": [
    "Please implement the LU factorization scheme, then construct two examples to show the accuracy of the factorization. "
   ]
  },
  {
   "cell_type": "markdown",
   "id": "256cb8d5-1cb7-4caf-8908-f504c606ecd5",
   "metadata": {},
   "source": [
    "<div style=\"background-color:rgba(0, 0, 0, 0.0470588); padding:10px 0;font-family:monospace;\">\n",
    "This is pseudocode for <font color = \"red\">LU factorization</font><br><hr/><br>\n",
    "rows, cols = A.shape <br>\n",
    "for i in range(rows):<br>\n",
    "&nbsp;&nbsp;&nbsp;&nbsp; $L[i+1:rows,i]=\\dfrac{U[i+1:rows,i]}{U[i,i]}$<br>\n",
    "&nbsp;&nbsp;&nbsp;&nbsp; $U[i+1:rows,i:cols] -= L[i+1:rows,i]\\times U[i,i:cols]$ <font color = \"green\"># $\\times$ is for outer product</font><br>\n",
    "&nbsp;&nbsp;&nbsp;&nbsp; $U[i+1:rows,i] = 0$<br>\n",
    "</div>\n"
   ]
  },
  {
   "cell_type": "markdown",
   "id": "1f892eef-ebe4-4a7e-ba0a-dfc6a8b145a4",
   "metadata": {},
   "source": [
    "This pseudocode may not be exactly correct, and it may lack some steps. It's just for reference. "
   ]
  },
  {
   "cell_type": "code",
   "execution_count": 4,
   "id": "1479ddd1",
   "metadata": {},
   "outputs": [],
   "source": [
    "import numpy as np\n",
    "\n",
    "def lu(A): \n",
    "    rows = A.shape[0]\n",
    "    \n",
    "    U = A.copy()\n",
    "    L = np.eye(rows)\n",
    "    \n",
    "    #Loop over rows\n",
    "    for i in range(rows):\n",
    "        multiplier = U[i+1:, i] / U[i, i]\n",
    "        L[i+1:, i] = multiplier\n",
    "        U[i+1:] -= multiplier[:, np.newaxis] * U[i]\n",
    "        \n",
    "    return L, U"
   ]
  },
  {
   "cell_type": "code",
   "execution_count": 7,
   "id": "6b72a423",
   "metadata": {},
   "outputs": [
    {
     "data": {
      "text/plain": [
       "(array([[1.        , 0.        , 0.        ],\n",
       "        [0.3348287 , 1.        , 0.        ],\n",
       "        [0.49827646, 7.07956475, 1.        ]]),\n",
       " array([[ 0.97734485,  0.09718564,  0.02207834],\n",
       "        [ 0.        ,  0.05389613,  0.22284704],\n",
       "        [ 0.        ,  0.        , -1.37201736]]))"
      ]
     },
     "execution_count": 7,
     "metadata": {},
     "output_type": "execute_result"
    }
   ],
   "source": [
    "A = np.random.rand(3,3)\n",
    "lu(A)"
   ]
  },
  {
   "cell_type": "code",
   "execution_count": 6,
   "id": "999c5c82",
   "metadata": {},
   "outputs": [
    {
     "data": {
      "text/plain": [
       "(array([[ 1.        ,  0.        ,  0.        ,  0.        ,  0.        ],\n",
       "        [ 0.1684749 ,  1.        ,  0.        ,  0.        ,  0.        ],\n",
       "        [ 1.54623643, 10.03265949,  1.        ,  0.        ,  0.        ],\n",
       "        [ 0.56926738, -5.51986728,  2.53955051,  1.        ,  0.        ],\n",
       "        [ 1.28066766,  5.61583654,  1.96391246,  0.47118153,  1.        ]]),\n",
       " array([[ 0.55394904,  0.58767307,  0.89459141,  0.73075635,  0.69690039],\n",
       "        [ 0.        , -0.041695  , -0.06861351,  0.42658526,  0.18002568],\n",
       "        [ 0.        ,  0.        , -0.14301062, -4.73312797, -2.57870018],\n",
       "        [ 0.        ,  0.        ,  0.        , 14.10923298,  7.77993194],\n",
       "        [ 0.        ,  0.        ,  0.        ,  0.        , -0.16273403]]))"
      ]
     },
     "execution_count": 6,
     "metadata": {},
     "output_type": "execute_result"
    }
   ],
   "source": [
    "A = np.random.rand(5,5)\n",
    "lu(A)"
   ]
  },
  {
   "cell_type": "code",
   "execution_count": null,
   "id": "7d4cdf17",
   "metadata": {},
   "outputs": [],
   "source": []
  }
 ],
 "metadata": {
  "kernelspec": {
   "display_name": "Python 3 (ipykernel)",
   "language": "python",
   "name": "python3"
  },
  "language_info": {
   "codemirror_mode": {
    "name": "ipython",
    "version": 3
   },
   "file_extension": ".py",
   "mimetype": "text/x-python",
   "name": "python",
   "nbconvert_exporter": "python",
   "pygments_lexer": "ipython3",
   "version": "3.9.12"
  }
 },
 "nbformat": 4,
 "nbformat_minor": 5
}
