{
 "cells": [
  {
   "cell_type": "markdown",
   "id": "5339cfd6-d30a-4e40-ad86-b69b96c72d03",
   "metadata": {},
   "source": [
    "# Assignment 02\n",
    "\n",
    "Due Sep 20, 11:59pm. Please submit one .ipynb file to Beachboard. "
   ]
  },
  {
   "cell_type": "markdown",
   "id": "e003382a-28a2-4602-a347-bfcb5e0d796a",
   "metadata": {},
   "source": [
    "<p style='text-align: right; '> Put your name here </p>\n",
    "<p style='text-align: right; '> Put the date here </p>"
   ]
  },
  {
   "cell_type": "markdown",
   "id": "f9026525-15f7-49e0-aeef-22d1a851ac8f",
   "metadata": {},
   "source": [
    "Please refer to the Lec03_NMF_SVD.ipynb, as well as the tutorial in this website: [https://scikit-learn.org/stable/auto_examples/decomposition/plot_faces_decomposition.html#sphx-glr-auto-examples-decomposition-plot-faces-decomposition-py](https://scikit-learn.org/stable/auto_examples/decomposition/plot_faces_decomposition.html#sphx-glr-auto-examples-decomposition-plot-faces-decomposition-py). \n",
    "\n",
    "Then do the following:"
   ]
  },
  {
   "cell_type": "markdown",
   "id": "6a322001-9921-4180-a8d1-9517e4214965",
   "metadata": {},
   "source": [
    "* Load the Faces dataset of human faces, form the data matrix called faces.  \n",
    "* Find out how many human images are there. \n",
    "* Plot the first 4 human images in one row.\n",
    "* Notice that we have implemented our own randomized SVD in class. \n",
    "* Please use our own implementation of randomized SVD to decompose the faces matrix, with 8 truncated components. \n",
    "* Plot the 8 eigenfaces in 2 rows and 4 columns. \n",
    "* Reconstruct the first 4 images using the 8 eigenfaces, and plot the reconstructed imagesc in one row. "
   ]
  },
  {
   "cell_type": "code",
   "execution_count": null,
   "id": "1c2fcef9-997e-458f-ba3f-299503ee6568",
   "metadata": {},
   "outputs": [],
   "source": []
  }
 ],
 "metadata": {
  "kernelspec": {
   "display_name": "Python 3 (ipykernel)",
   "language": "python",
   "name": "python3"
  },
  "language_info": {
   "codemirror_mode": {
    "name": "ipython",
    "version": 3
   },
   "file_extension": ".py",
   "mimetype": "text/x-python",
   "name": "python",
   "nbconvert_exporter": "python",
   "pygments_lexer": "ipython3",
   "version": "3.7.2"
  }
 },
 "nbformat": 4,
 "nbformat_minor": 5
}
