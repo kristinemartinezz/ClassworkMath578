{
 "cells": [
  {
   "cell_type": "markdown",
   "id": "c238b1d1-a0f0-4ea2-9c76-2a875780b8f9",
   "metadata": {},
   "source": [
    "# Assignment 05\n",
    "\n",
    "Due Oct 20, 11:59pm. Please submit one .ipynb file to Beachboard. "
   ]
  },
  {
   "cell_type": "markdown",
   "id": "f622fa43-1614-4067-8124-c77cbae7ab33",
   "metadata": {},
   "source": [
    "<p style='text-align: right; '> Put your name here </p>\n",
    "<p style='text-align: right; '> Put the date here </p>"
   ]
  },
  {
   "cell_type": "markdown",
   "id": "bc639fae-f2bf-4afa-ae2b-cb9a79e28592",
   "metadata": {},
   "source": [
    "Please implement the LU factorization scheme, then construct two examples to show the accuracy of the factorization. "
   ]
  },
  {
   "cell_type": "markdown",
   "id": "256cb8d5-1cb7-4caf-8908-f504c606ecd5",
   "metadata": {},
   "source": [
    "<div style=\"background-color:rgba(0, 0, 0, 0.0470588); padding:10px 0;font-family:monospace;\">\n",
    "This is pseudocode for <font color = \"red\">LU factorization</font><br><hr/><br>\n",
    "rows, cols = A.shape <br>\n",
    "for i in range(rows):<br>\n",
    "&nbsp;&nbsp;&nbsp;&nbsp; $L[i+1:rows,i]=\\dfrac{U[i+1:rows,i]}{U[i,i]}$<br>\n",
    "&nbsp;&nbsp;&nbsp;&nbsp; $U[i+1:rows,i:cols] -= L[i+1:rows,i]\\times U[i,i:cols]$ <font color = \"green\"># $\\times$ is for outer product</font><br>\n",
    "&nbsp;&nbsp;&nbsp;&nbsp; $U[i+1:rows,i] = 0$<br>\n",
    "</div>\n"
   ]
  },
  {
   "cell_type": "markdown",
   "id": "1f892eef-ebe4-4a7e-ba0a-dfc6a8b145a4",
   "metadata": {},
   "source": [
    "This pseudocode may not be exactly correct, and it may lack some steps. It's just for reference. "
   ]
  }
 ],
 "metadata": {
  "kernelspec": {
   "display_name": "Python 3 (ipykernel)",
   "language": "python",
   "name": "python3"
  },
  "language_info": {
   "codemirror_mode": {
    "name": "ipython",
    "version": 3
   },
   "file_extension": ".py",
   "mimetype": "text/x-python",
   "name": "python",
   "nbconvert_exporter": "python",
   "pygments_lexer": "ipython3",
   "version": "3.9.6"
  }
 },
 "nbformat": 4,
 "nbformat_minor": 5
}
