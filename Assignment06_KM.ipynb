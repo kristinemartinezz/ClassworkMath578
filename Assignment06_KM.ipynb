{
 "cells": [
  {
   "cell_type": "markdown",
   "id": "f505fcaf-434c-4a7a-9243-21d5278110e4",
   "metadata": {},
   "source": [
    "# Assignment 6 (Due on Dec 1st, midnight. Enjoy!)"
   ]
  },
  {
   "cell_type": "markdown",
   "id": "b2dcef99-055b-4296-a0a8-3d684f210bbb",
   "metadata": {},
   "source": [
    "This will be the very last homework."
   ]
  },
  {
   "cell_type": "markdown",
   "id": "2a317fcb-ebd3-49c2-9b4d-24551c619a2d",
   "metadata": {},
   "source": [
    "1. Implement pure QR algorithm, practical QR algorithm to find eigenvalues of A. Just find three largest eigenvalues and their corresponding eigenvectors. \n",
    "2. Implement Alnoldi algorithm for obtaining the Hessenberg matrix $H$. Then use practical QR algorithm to transform $H$ into an upper triangular matrix. Then find the three largest eigenvales and their corresponding eigenvectors. \n",
    "\n",
    "* Please design a $10\\times 10$ random matrix, and make it symmetric. Then find the eigenvalues and eigenvectors using the functions you implemented. After that, use *numpy.linalg.eig* to check against the correctness of your eigenvalue and eigenvector calculation.  \n",
    "* Notice that the pure QR algorithm and the Alnoldi algorithm are already implemented in the lecture notes on Page Rank. \n",
    "* You may refer to the Lecture notes for Lecture 23, posted in Beachboard as [Eigen_QR.pdf](https://bbcsulb.desire2learn.com/d2l/le/lessons/882936/topics/10518848), for theoretical details on obtaining more than one eigenvalues and eigenvectors. \n",
    "* **You do not need to submit all of these.** To not create too much work and ruin your Thanksgiving break, I would like you to **submit only** the implementation practical QR algorithm, and using it to find **one** largest eigenvalue and the corresponding eigenvector. "
   ]
  },
  {
   "cell_type": "code",
   "execution_count": null,
   "id": "212c8b9e-03b4-461b-b9d0-69d1554f9b1f",
   "metadata": {},
   "outputs": [],
   "source": []
  }
 ],
 "metadata": {
  "kernelspec": {
   "display_name": "Python 3 (ipykernel)",
   "language": "python",
   "name": "python3"
  },
  "language_info": {
   "codemirror_mode": {
    "name": "ipython",
    "version": 3
   },
   "file_extension": ".py",
   "mimetype": "text/x-python",
   "name": "python",
   "nbconvert_exporter": "python",
   "pygments_lexer": "ipython3",
   "version": "3.9.6"
  }
 },
 "nbformat": 4,
 "nbformat_minor": 5
}
