{
 "cells": [
  {
   "cell_type": "markdown",
   "id": "138bdaf1-13ab-4748-b776-294a03a9bdbe",
   "metadata": {},
   "source": [
    "# NumPy\n",
    "\n",
    "### Questions:\n",
    "\n",
    "  * What is vectorization?\n",
    "  * Why using NumPy instead of pure python?\n",
    "  * How to use basic NumPy?\n",
    "\n",
    "### Objectives\n",
    "\n",
    "*    Understand the Numpy array object\n",
    "*    Be able to use basic NumPy functionality\n",
    "*    Understand enough of NumPy to seach for answers to the rest of your questions ;)\n"
   ]
  },
  {
   "cell_type": "markdown",
   "id": "ae2b2dd3-3833-47aa-94f7-c037f535f6f5",
   "metadata": {},
   "source": [
    "## What is an array?\n",
    "\n",
    "For example, consider \n",
    "``` python \n",
    "[1, 2.5, 'asdf', False, [1.5, True]]\n",
    "```\n",
    "\n",
    "this is a Python list but it has different types for every element. When you do math on this, every element has to be handled separately.\n",
    "\n",
    "NumPy is the most used library for scientific computing. Even if you are not using it directly, chances are high that some library uses it in the background. NumPy provides the high-performance multidimensional array object and tools to use it.\n",
    "\n",
    "An array is a 'grid' of values, with all the same types. It is indexed by tuples of non negative indices and provides the framework for multiple dimensions. An array has:\n",
    "\n",
    "  *  <font color=blue>dtype</font> - data type. Arrays always contain one type\n",
    "\n",
    "  *  <font color=blue>shape</font> - shape of the data, for example 3×2 or 3×2×500 or even 500 (one dimensional) or [] (zero dimensional).\n",
    "\n",
    "  *  <font color=blue>data</font> - raw data storage in memory. This can be passed to C or Fortran code for efficient calculations.\n",
    "\n",
    "To test the performance of pure Python vs NumPy we can write in our jupyter notebook:\n",
    "\n",
    "Create one list and one 'empty' list, to store the result in"
   ]
  },
  {
   "cell_type": "code",
   "execution_count": 6,
   "id": "559d9019",
   "metadata": {},
   "outputs": [
    {
     "name": "stdout",
     "output_type": "stream",
     "text": [
      "[[1 2]\n",
      " [3 4]]\n"
     ]
    },
    {
     "data": {
      "text/plain": [
       "<memory at 0x000001B0BD0A5040>"
      ]
     },
     "execution_count": 6,
     "metadata": {},
     "output_type": "execute_result"
    }
   ],
   "source": [
    "import numpy as np\n",
    "a = np.array([[1, 2], [3, 4]])\n",
    "print(a)\n",
    "a.data"
   ]
  },
  {
   "cell_type": "code",
   "execution_count": 12,
   "id": "872ea6a7-2bc2-4911-bfd4-a8b24fcfbd4e",
   "metadata": {},
   "outputs": [],
   "source": [
    "a = list(range(10000))\n",
    "b = [ 0 ] * 10000"
   ]
  },
  {
   "cell_type": "markdown",
   "id": "64ffc9fa-89df-404f-8ccd-74cb5762072a",
   "metadata": {},
   "source": [
    "In a new cell starting with *%%timeit*, loop through the list *a* and fill the second list *b* with a squared"
   ]
  },
  {
   "cell_type": "code",
   "execution_count": 13,
   "id": "6c43de03-a2a3-497a-b78f-139a4973d9bf",
   "metadata": {},
   "outputs": [
    {
     "name": "stdout",
     "output_type": "stream",
     "text": [
      "2.55 ms ± 132 µs per loop (mean ± std. dev. of 7 runs, 100 loops each)\n"
     ]
    }
   ],
   "source": [
    "%%timeit\n",
    "for i in range(len(a)):\n",
    "    b[i] = a[i]**2"
   ]
  },
  {
   "cell_type": "markdown",
   "id": "56324aa2-2cae-4b94-a191-9144a3785839",
   "metadata": {},
   "source": [
    "That looks and feels quite fast. But let’s take a look at how NumPy performs for the same task.\n",
    "\n",
    "So for the NumPy example, create one array and one 'empty' array to store the result in"
   ]
  },
  {
   "cell_type": "code",
   "execution_count": 14,
   "id": "a62f8605-54c5-49eb-9660-a5258af02764",
   "metadata": {},
   "outputs": [],
   "source": [
    "import numpy as np\n",
    "a = np.arange(10000)"
   ]
  },
  {
   "cell_type": "markdown",
   "id": "5d53b428-7633-4e6b-bba1-a805c12d0228",
   "metadata": {},
   "source": [
    "In a new cell starting with *%%timeit*, fill *b* with *a* squared"
   ]
  },
  {
   "cell_type": "code",
   "execution_count": 15,
   "id": "c39c4f25-01a6-4f38-8053-a37633ed97b6",
   "metadata": {},
   "outputs": [
    {
     "name": "stdout",
     "output_type": "stream",
     "text": [
      "7.21 µs ± 333 ns per loop (mean ± std. dev. of 7 runs, 100,000 loops each)\n"
     ]
    }
   ],
   "source": [
    "%%timeit\n",
    "b = a ** 2"
   ]
  },
  {
   "cell_type": "markdown",
   "id": "58474474-1a99-4c8e-b765-38835ad14c36",
   "metadata": {},
   "source": [
    "We see that compared to working with numpy arrays, working with traditional python lists is actually slow."
   ]
  },
  {
   "cell_type": "markdown",
   "id": "7a6c1edb-d3b6-48b5-9753-e18224cf5ff6",
   "metadata": {},
   "source": [
    "## Creating arrays\n",
    "\n",
    "There are different ways of creating arrays (*numpy.array()*, *numpy.ndarray.shape*, *numpy.ndarray.size*):"
   ]
  },
  {
   "cell_type": "code",
   "execution_count": 35,
   "id": "9c0012aa-7be3-4b85-8f4c-6f2bd9509d65",
   "metadata": {},
   "outputs": [],
   "source": [
    "# a = np.array([1,2,3])               # 1-dimensional array (rank 1)\n",
    "# b = np.array([[1,2,3],[4,5,6]])     # 2-dimensional array (rank 2)\n",
    "\n",
    "# b.shape                             # the shape (rows,columns)\n",
    "# b.size                              # number of elements"
   ]
  },
  {
   "cell_type": "markdown",
   "id": "cf40d6ed-9d91-47a5-a667-4fa6dc35659d",
   "metadata": {},
   "source": [
    "In addition to above ways of creating arrays, there are many other ways of creating arrays depending on content (*numpy.zeros()*, *numpy.ones()*, *numpy.full()*, *numpy.eye()*, *numpy.arange()*, *numpy.linspace()*):"
   ]
  },
  {
   "cell_type": "code",
   "execution_count": 45,
   "id": "0f6dd974-3e6b-45e6-be00-b51c27f9e9cc",
   "metadata": {},
   "outputs": [],
   "source": [
    "## examples\n"
   ]
  },
  {
   "cell_type": "markdown",
   "id": "7413cee5-a7e3-4093-9756-00adfad4bfad",
   "metadata": {},
   "source": [
    "Arrays can also be stored and read from a (*.npy*) file (*numpy.save()*, *numpy.load()*):"
   ]
  },
  {
   "cell_type": "code",
   "execution_count": 47,
   "id": "b81c7241-63bc-4316-8a51-0d0152a994f2",
   "metadata": {},
   "outputs": [],
   "source": [
    "# np.save('x.npy', a)           # save the array a to a .npy file\n",
    "# x = np.load('x.npy')          # load an array from a .npy file and store it in variable x"
   ]
  },
  {
   "cell_type": "markdown",
   "id": "87cda6f7-4a18-49ac-9ffe-58fee07275af",
   "metadata": {},
   "source": [
    "In many occasions (especially when something goes different than expected) it is useful to check and control the datatype of the array (*numpy.ndarray.dtype*, *numpy.ndarray.astype()*):"
   ]
  },
  {
   "cell_type": "code",
   "execution_count": 49,
   "id": "fce2c092-dcf5-48d5-bbc1-a6acaca11e07",
   "metadata": {},
   "outputs": [],
   "source": [
    "# d.dtype                    # datatype of the array\n",
    "# d.astype('int')            # change datatype from boolean to integer"
   ]
  },
  {
   "cell_type": "markdown",
   "id": "b64f1b03-5fcf-4574-8d71-dd44a8ce53dc",
   "metadata": {},
   "source": [
    "In the last example, *.astype('int')*, it will make a copy of the array, and re-allocate data unless the dtype is exactly the same as before. Understanding and minimizing copies is one of the most important things to do for speed."
   ]
  },
  {
   "cell_type": "markdown",
   "id": "c2cd1b96-daaa-4bdc-b175-a6feb10085b6",
   "metadata": {},
   "source": [
    "## Array maths\n",
    "\n",
    "Clearly, you can do math on arrays. Math in *NumPy*, is very fast because it is implemented in C or Fortran - just like most other high-level languages such as R, Matlab, etc do.\n",
    "\n",
    "By default, in *NumPy* all math is element-by-element. This is unlike Matlab, where most things are element-by-element, but * becomes array multiplication. NumPy values consistency and does not treat 2-dimensional arrays specially (*numpy.add*):"
   ]
  },
  {
   "cell_type": "code",
   "execution_count": 68,
   "id": "5485c5ff-4dfc-4f86-9fed-116d1d50b8c2",
   "metadata": {},
   "outputs": [],
   "source": [
    "# a = np.array([[1,2],[3,4]])\n",
    "# b = np.array([[5,6],[7,8]])\n",
    "\n",
    "# c = a + b\n",
    "# d = np.add(a,b)"
   ]
  },
  {
   "cell_type": "markdown",
   "id": "214756eb-2d08-47b2-9cd4-545cd8474056",
   "metadata": {},
   "source": [
    "Also: - (*numpy.subtract*), * (*numpy.multiply*), / (*numpy.divide*), *numpy.sqrt*, *numpy.sum()*, *numpy.mean()*, …"
   ]
  },
  {
   "cell_type": "markdown",
   "id": "64ee70d9-0b18-431e-90b6-4bf9af883a3c",
   "metadata": {},
   "source": [
    "## Indexing and Slicing\n",
    "\n",
    "**See also [Numpy basic indexing docs](https://numpy.org/doc/stable/user/basics.indexing.html#basics-indexing)**\n",
    "\n",
    "NumPy has many ways to extract values out of arrays:\n",
    "\n",
    "*    You can select a single element\n",
    "*    You can select rows or columns\n",
    "*    You can select ranges where a condition is true.\n",
    "\n",
    "Clever and efficient use of these operations is a key to NumPy’s speed: you should try to cleverly use these selectors (written in C) to extract data to be used with other NumPy functions written in C or Fortran. This will give you the benefits of Python with most of the speed of C."
   ]
  },
  {
   "cell_type": "code",
   "execution_count": 64,
   "id": "9c94630e-cbd6-43ab-86a5-b089fb4abd1c",
   "metadata": {},
   "outputs": [],
   "source": [
    "# a = np.arange(16).reshape(4, 4)  # 4x4 matrix from 0 to 15\n",
    "# a[0]                             # first row\n",
    "# a[:,0]                           # first column\n",
    "# a[1:3,1:3]                       # middle 2x2 array\n",
    "# a[(0, 1), (1, 1)]                # second element of first and second row as array"
   ]
  },
  {
   "cell_type": "markdown",
   "id": "4c926fab-56ca-4fe5-9f9d-279bc0c68338",
   "metadata": {},
   "source": [
    "Boolean indexing on above created array:"
   ]
  },
  {
   "cell_type": "code",
   "execution_count": 65,
   "id": "d0960ee5-16e8-469d-84c7-d2fb0d8bdfc2",
   "metadata": {},
   "outputs": [],
   "source": [
    "# idx = (a > 0)      # creates boolean matrix of same size as a\n",
    "# a[idx]             # array with matching values of above criterion\n",
    "# a[a > 0]           # same as above in one line"
   ]
  },
  {
   "cell_type": "markdown",
   "id": "ff5c61f3-80f9-4289-868e-e93c45ffb9a7",
   "metadata": {},
   "source": [
    "## Types of operations\n",
    "\n",
    "There are different types of standard operations in NumPy:\n",
    "\n",
    "*ufuncs*, \"universal functions\": These are element-by-element functions with standardized arguments:\n",
    "\n",
    " *   One, two, or three input arguments\n",
    " *   For example, a + b is similar to np.add(a, b) but the ufunc has more control.\n",
    " *   out= output argument, store output in this array (rather than make a new array) - saves copying data!\n",
    " *   See the [full reference](https://numpy.org/doc/stable/reference/ufuncs.html)\n",
    " *   They also do broadcasting ([ref](https://numpy.org/doc/stable/user/basics.broadcasting.html#basics-broadcasting)). Can you add a 1-dimensional array of shape (3) to an 2-dimensional array of shape (3, 2)? With broadcasting you can! Broadcasting is smart and consistent about what it does, which I’m not clever enough to explain quickly here: the manual page on broadcasting. The basic idea is that it expands dimensions of the smaller array so that they are compatible in shape."
   ]
  },
  {
   "cell_type": "code",
   "execution_count": 66,
   "id": "c624c745-123e-4feb-83b5-0645dab168e7",
   "metadata": {},
   "outputs": [],
   "source": [
    "# a = np.array([[1, 2, 3],[4, 5, 6]])\n",
    "# b = np.array([10, 10, 10])\n",
    "# a + b"
   ]
  },
  {
   "cell_type": "markdown",
   "id": "eed69d89-e5f3-42bd-a353-900eb49bd05b",
   "metadata": {},
   "source": [
    "Array methods do something to one array. Some of these are the same as ufuncs: Other functions: there are countless other functions covering linear algebra, scientific functions, etc."
   ]
  },
  {
   "cell_type": "code",
   "execution_count": 67,
   "id": "573395cb-ddf3-49fb-ae47-c3c4aded04dc",
   "metadata": {},
   "outputs": [],
   "source": [
    "# x = np.arange(12)\n",
    "# x.shape = (3, 4)\n",
    "# x\n",
    "# x.max()\n",
    "# x.max(axis=0)\n",
    "# x.max(axis=1)"
   ]
  },
  {
   "cell_type": "markdown",
   "id": "2d20ffe5-e3c0-4ccb-a18d-105e5f1f7179",
   "metadata": {},
   "source": [
    "## Linear algebra and other advanced math\n",
    "\n",
    "In general, you use arrays (n-dimensions), not matrixes (specialized 2-dimensional) in NumPy.\n",
    "\n",
    "Internally, NumPy doesn’t invent its own math routines: it relies on BLAS and LAPACK to do this kind of math - the same as many other languages.\n",
    "\n",
    "*    [Linear algebra in numpy](https://numpy.org/doc/stable/reference/routines.linalg.html)\n",
    "*    [Many, many other array functions](https://numpy.org/doc/stable/reference/routines.html)\n",
    "*    [Scipy](https://docs.scipy.org/doc/scipy/reference/) has even more functions\n",
    "*    Many other libraries use NumPy arrays as the standard data structure: they take data in this format, and return it similarly. Thus, all the other packages you may want to use are compatible\n",
    "*    If you need to write your own fast code in C, NumPy arrays can be used to pass data. This is known as [extending Python](https://docs.python.org/3/extending/).\n",
    "\n",
    "## See also\n",
    "\n",
    "* [NumPy manual](https://numpy.org/doc/stable/reference/)\n",
    "    *  [Basic array class reference](https://numpy.org/doc/stable/reference/arrays.html)\n",
    "    *  [Indexing](https://numpy.org/doc/stable/reference/arrays.indexing.html)\n",
    "    *  [ufuncs](https://numpy.org/doc/stable/reference/ufuncs.html)\n",
    "* [2020 Nature paper on NumPy’s role and basic concepts](https://www.nature.com/articles/s41586-020-2649-2)\n"
   ]
  },
  {
   "cell_type": "code",
   "execution_count": null,
   "id": "4256f5f6-147d-4700-8887-64cbc9ad89c0",
   "metadata": {},
   "outputs": [],
   "source": []
  }
 ],
 "metadata": {
  "kernelspec": {
   "display_name": "Python 3 (ipykernel)",
   "language": "python",
   "name": "python3"
  },
  "language_info": {
   "codemirror_mode": {
    "name": "ipython",
    "version": 3
   },
   "file_extension": ".py",
   "mimetype": "text/x-python",
   "name": "python",
   "nbconvert_exporter": "python",
   "pygments_lexer": "ipython3",
   "version": "3.9.12"
  }
 },
 "nbformat": 4,
 "nbformat_minor": 5
}
