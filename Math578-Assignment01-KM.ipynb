{
 "cells": [
  {
   "cell_type": "markdown",
   "id": "7584909f-4f47-47d5-abf0-c552bd5e47c8",
   "metadata": {},
   "source": [
    "# Assignment 01\n"
   ]
  },
  {
   "cell_type": "markdown",
   "id": "e9250165-6068-40a0-8898-2f5933373dc3",
   "metadata": {},
   "source": [
    "<p style='text-align: right; '> Kristine Martinez </p>\n",
    "<p style='text-align: right; '> 8/27/2022 </p>"
   ]
  },
  {
   "cell_type": "markdown",
   "id": "8f56c453-2ea7-4dee-aa78-83ca425fb10e",
   "metadata": {},
   "source": [
    "**For this assignment I have chosen to write about Newton's Method. I will show the algorithm of the method, give an example using Python, and discuss the advantages and disadvantages of the method.** \n",
    "_____________________________"
   ]
  },
  {
   "cell_type": "markdown",
   "id": "6d402c49",
   "metadata": {},
   "source": [
    "Newton's method is an iterative process for finding successive roots of a real-valued function, $f(x)=0$. Given an function $f$ defined over the real numbers $x$ and the function's derivative $f'$, we start with an initial guess $x_0$ for a root of the funtion. The function must satisfy all assumptions made in the derivation of the formula and the initial guess is close to the solution. The algorithm of Newton's method begins as is:\n",
    "1. First we choose an initial guess $x_0$\n",
    "2. Then starting with initial guess $x_0$ we compute a better approximation $x_1$ $$x_1=x_0-\\frac{f(x_0)}{f'(x_0)}\\quad where\\ f'(x_0)\\neq0$$\n",
    "3. The process is repeated until a successive value is achieved for the desired number of decimal places given by the formula $$x_{n+1}=x_n-\\frac{f(x_n)}{f'(x_n)}$$ \n",
    "\n",
    "We use this algorithm successively until $x_n$ coverges to the solution $x^*$."
   ]
  },
  {
   "cell_type": "markdown",
   "id": "ec38b089-aa08-4a08-9fd1-a4cd0d8a70dd",
   "metadata": {},
   "source": [
    "Now let's use Newton's method for the following example: $$f(x)=x^2-5$$ First, let us define the function $f$ and the function's derivative $f'$:"
   ]
  },
  {
   "cell_type": "code",
   "execution_count": 87,
   "id": "f42124ae-3067-43e9-83c8-9e2882552160",
   "metadata": {},
   "outputs": [],
   "source": [
    "import sympy as sy\n",
    "import numpy as np\n",
    "\n",
    "x=sy.Symbol('x')\n",
    "\n",
    "f=x**2-5\n",
    "diff_f=sy.diff(f,x)\n",
    "\n",
    "f_x=sy.lambdify(x,f)\n",
    "diff_f_x=sy.lambdify(x,diff_f)"
   ]
  },
  {
   "cell_type": "markdown",
   "id": "d4030a90-6abd-4d14-9408-f2ae039ea12c",
   "metadata": {},
   "source": [
    "In our example, the function $f$ has the solution $x^*=2.2360679775$. \n",
    "\n",
    "Now we will implement Newton's method by creating a function and go through 10 iterations of the algorithm."
   ]
  },
  {
   "cell_type": "code",
   "execution_count": 88,
   "id": "f62fbf09",
   "metadata": {},
   "outputs": [],
   "source": [
    "def newtonsmethod(x0,iterations,f,df):\n",
    "    x=x0\n",
    "    for i in range(iterations):\n",
    "        x=x-f(x)/df(x)\n",
    "    return x"
   ]
  },
  {
   "cell_type": "code",
   "execution_count": 89,
   "id": "efb0541d-f235-4ac9-b3ea-e4e803ca7a5d",
   "metadata": {},
   "outputs": [
    {
     "data": {
      "text/plain": [
       "2.23606797749979"
      ]
     },
     "execution_count": 89,
     "metadata": {},
     "output_type": "execute_result"
    }
   ],
   "source": [
    "approximation = newtonsmethod(2,10,f_x,diff_f_x)\n",
    "approximation"
   ]
  },
  {
   "cell_type": "markdown",
   "id": "3d0b2a00",
   "metadata": {},
   "source": [
    "With Newton's method, the root of the function $f(x)=x^2-5$ is approximately 2.23606797749979 since convergence occurs to that value over the number of iterations."
   ]
  },
  {
   "cell_type": "markdown",
   "id": "d717cad1",
   "metadata": {},
   "source": [
    "## Conclusion\n",
    "\n",
    "The advantages of Newton's method is its fast. Although the method works fast, some disadvantages are that our initial guess $x_0$ must be close to the solution and we need to compute the derivative of the function $f'(x)$, which can take a lot of computation and time."
   ]
  }
 ],
 "metadata": {
  "kernelspec": {
   "display_name": "Python 3 (ipykernel)",
   "language": "python",
   "name": "python3"
  },
  "language_info": {
   "codemirror_mode": {
    "name": "ipython",
    "version": 3
   },
   "file_extension": ".py",
   "mimetype": "text/x-python",
   "name": "python",
   "nbconvert_exporter": "python",
   "pygments_lexer": "ipython3",
   "version": "3.9.12"
  }
 },
 "nbformat": 4,
 "nbformat_minor": 5
}
